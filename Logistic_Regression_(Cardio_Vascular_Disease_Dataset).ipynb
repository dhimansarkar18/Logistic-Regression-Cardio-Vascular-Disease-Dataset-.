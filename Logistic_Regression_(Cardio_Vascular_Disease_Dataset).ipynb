{
  "nbformat": 4,
  "nbformat_minor": 0,
  "metadata": {
    "colab": {
      "name": "Logistic Regression (Cardio Vascular Disease Dataset).ipynb",
      "provenance": [],
      "collapsed_sections": [
        "n0RoKGWyGZEx",
        "RDs8GEYmF0cn"
      ]
    },
    "kernelspec": {
      "name": "python3",
      "display_name": "Python 3"
    },
    "language_info": {
      "name": "python"
    }
  },
  "cells": [
    {
      "cell_type": "markdown",
      "metadata": {
        "id": "grw2_uUIHthd"
      },
      "source": [
        "## Section A\n",
        "Binary classifier model to predict the Cardio Vascular Disease Risk (Yes/No, or 1/0) using a Logistic Regression Model with the best performance possible"
      ]
    },
    {
      "cell_type": "markdown",
      "metadata": {
        "id": "T3vk2mZkogt_"
      },
      "source": [
        "##I. Importing Packages"
      ]
    },
    {
      "cell_type": "code",
      "metadata": {
        "id": "Hd2mywlDil-I"
      },
      "source": [
        "import numpy as np\n",
        "import pandas as pd\n",
        "import seaborn as sns\n",
        "import matplotlib as plt\n",
        "from google.colab import drive\n",
        "from sklearn.linear_model import LogisticRegression\n",
        "from sklearn.datasets import load_iris\n",
        "from sklearn.model_selection import train_test_split\n",
        "from sklearn import linear_model \n",
        "from sklearn.model_selection import RandomizedSearchCV\n",
        "from scipy.stats import uniform\n",
        "from sklearn.metrics import roc_auc_score\n",
        "from sklearn.metrics import plot_roc_curve\n",
        "from sklearn.metrics import roc_curve, auc\n",
        "from sklearn.metrics import classification_report, confusion_matrix"
      ],
      "execution_count": 1,
      "outputs": []
    },
    {
      "cell_type": "markdown",
      "metadata": {
        "id": "e8KovKEzqXzG"
      },
      "source": [
        "##II. Mounting Google Drive"
      ]
    },
    {
      "cell_type": "code",
      "metadata": {
        "colab": {
          "base_uri": "https://localhost:8080/"
        },
        "id": "_p4ZfqdiqpQ2",
        "outputId": "694f93dc-342c-4eb6-f0dc-7a6721021432"
      },
      "source": [
        "drive.mount(\"/content/drive\")"
      ],
      "execution_count": 2,
      "outputs": [
        {
          "output_type": "stream",
          "text": [
            "Mounted at /content/drive\n"
          ],
          "name": "stdout"
        }
      ]
    },
    {
      "cell_type": "markdown",
      "metadata": {
        "id": "r7PXFTVuqqRO"
      },
      "source": [
        "##III. Reading the Dataset"
      ]
    },
    {
      "cell_type": "code",
      "metadata": {
        "colab": {
          "base_uri": "https://localhost:8080/",
          "height": 419
        },
        "id": "drN38-e2qxU8",
        "outputId": "c7a0b821-88d9-41ab-ee42-61b9a4e457c5"
      },
      "source": [
        "cvd = pd.read_csv(\"/content/drive/MyDrive/MSBA_Colab_2020/ML_Algorithms/CA05/Data/cvd_data.csv\")\n",
        "cvd"
      ],
      "execution_count": 3,
      "outputs": [
        {
          "output_type": "execute_result",
          "data": {
            "text/html": [
              "<div>\n",
              "<style scoped>\n",
              "    .dataframe tbody tr th:only-of-type {\n",
              "        vertical-align: middle;\n",
              "    }\n",
              "\n",
              "    .dataframe tbody tr th {\n",
              "        vertical-align: top;\n",
              "    }\n",
              "\n",
              "    .dataframe thead th {\n",
              "        text-align: right;\n",
              "    }\n",
              "</style>\n",
              "<table border=\"1\" class=\"dataframe\">\n",
              "  <thead>\n",
              "    <tr style=\"text-align: right;\">\n",
              "      <th></th>\n",
              "      <th>cvd_4types</th>\n",
              "      <th>age_s1</th>\n",
              "      <th>race</th>\n",
              "      <th>educat</th>\n",
              "      <th>mstat</th>\n",
              "      <th>hip</th>\n",
              "      <th>neck20</th>\n",
              "      <th>waist</th>\n",
              "      <th>av_weight_kg</th>\n",
              "      <th>cgpkyr</th>\n",
              "      <th>tea15</th>\n",
              "      <th>srhype</th>\n",
              "      <th>parrptdiab</th>\n",
              "      <th>bend25</th>\n",
              "      <th>happy25</th>\n",
              "      <th>tired25</th>\n",
              "      <th>hlthlm25</th>\n",
              "    </tr>\n",
              "  </thead>\n",
              "  <tbody>\n",
              "    <tr>\n",
              "      <th>0</th>\n",
              "      <td>0</td>\n",
              "      <td>54</td>\n",
              "      <td>1</td>\n",
              "      <td>2</td>\n",
              "      <td>1</td>\n",
              "      <td>110.0</td>\n",
              "      <td>40.0</td>\n",
              "      <td>108.0</td>\n",
              "      <td>87.5</td>\n",
              "      <td>34.0</td>\n",
              "      <td>0</td>\n",
              "      <td>1</td>\n",
              "      <td>0</td>\n",
              "      <td>1</td>\n",
              "      <td>2</td>\n",
              "      <td>3</td>\n",
              "      <td>4</td>\n",
              "    </tr>\n",
              "    <tr>\n",
              "      <th>1</th>\n",
              "      <td>0</td>\n",
              "      <td>56</td>\n",
              "      <td>3</td>\n",
              "      <td>2</td>\n",
              "      <td>1</td>\n",
              "      <td>113.0</td>\n",
              "      <td>34.0</td>\n",
              "      <td>107.0</td>\n",
              "      <td>83.5</td>\n",
              "      <td>0.0</td>\n",
              "      <td>0</td>\n",
              "      <td>0</td>\n",
              "      <td>0</td>\n",
              "      <td>2</td>\n",
              "      <td>2</td>\n",
              "      <td>1</td>\n",
              "      <td>3</td>\n",
              "    </tr>\n",
              "    <tr>\n",
              "      <th>2</th>\n",
              "      <td>0</td>\n",
              "      <td>54</td>\n",
              "      <td>1</td>\n",
              "      <td>3</td>\n",
              "      <td>1</td>\n",
              "      <td>110.0</td>\n",
              "      <td>44.5</td>\n",
              "      <td>105.0</td>\n",
              "      <td>86.2</td>\n",
              "      <td>49.5</td>\n",
              "      <td>0</td>\n",
              "      <td>0</td>\n",
              "      <td>0</td>\n",
              "      <td>3</td>\n",
              "      <td>2</td>\n",
              "      <td>6</td>\n",
              "      <td>4</td>\n",
              "    </tr>\n",
              "    <tr>\n",
              "      <th>3</th>\n",
              "      <td>0</td>\n",
              "      <td>54</td>\n",
              "      <td>1</td>\n",
              "      <td>3</td>\n",
              "      <td>1</td>\n",
              "      <td>129.0</td>\n",
              "      <td>42.5</td>\n",
              "      <td>110.0</td>\n",
              "      <td>89.1</td>\n",
              "      <td>0.0</td>\n",
              "      <td>0</td>\n",
              "      <td>0</td>\n",
              "      <td>0</td>\n",
              "      <td>3</td>\n",
              "      <td>2</td>\n",
              "      <td>1</td>\n",
              "      <td>3</td>\n",
              "    </tr>\n",
              "    <tr>\n",
              "      <th>4</th>\n",
              "      <td>0</td>\n",
              "      <td>51</td>\n",
              "      <td>3</td>\n",
              "      <td>2</td>\n",
              "      <td>1</td>\n",
              "      <td>122.0</td>\n",
              "      <td>37.0</td>\n",
              "      <td>113.0</td>\n",
              "      <td>81.3</td>\n",
              "      <td>0.0</td>\n",
              "      <td>0</td>\n",
              "      <td>0</td>\n",
              "      <td>0</td>\n",
              "      <td>2</td>\n",
              "      <td>1</td>\n",
              "      <td>1</td>\n",
              "      <td>2</td>\n",
              "    </tr>\n",
              "    <tr>\n",
              "      <th>...</th>\n",
              "      <td>...</td>\n",
              "      <td>...</td>\n",
              "      <td>...</td>\n",
              "      <td>...</td>\n",
              "      <td>...</td>\n",
              "      <td>...</td>\n",
              "      <td>...</td>\n",
              "      <td>...</td>\n",
              "      <td>...</td>\n",
              "      <td>...</td>\n",
              "      <td>...</td>\n",
              "      <td>...</td>\n",
              "      <td>...</td>\n",
              "      <td>...</td>\n",
              "      <td>...</td>\n",
              "      <td>...</td>\n",
              "      <td>...</td>\n",
              "    </tr>\n",
              "    <tr>\n",
              "      <th>3237</th>\n",
              "      <td>1</td>\n",
              "      <td>66</td>\n",
              "      <td>1</td>\n",
              "      <td>2</td>\n",
              "      <td>1</td>\n",
              "      <td>95.0</td>\n",
              "      <td>41.5</td>\n",
              "      <td>99.0</td>\n",
              "      <td>88.2</td>\n",
              "      <td>0.0</td>\n",
              "      <td>0</td>\n",
              "      <td>1</td>\n",
              "      <td>0</td>\n",
              "      <td>2</td>\n",
              "      <td>2</td>\n",
              "      <td>5</td>\n",
              "      <td>4</td>\n",
              "    </tr>\n",
              "    <tr>\n",
              "      <th>3238</th>\n",
              "      <td>1</td>\n",
              "      <td>54</td>\n",
              "      <td>1</td>\n",
              "      <td>3</td>\n",
              "      <td>1</td>\n",
              "      <td>99.0</td>\n",
              "      <td>34.9</td>\n",
              "      <td>99.0</td>\n",
              "      <td>83.3</td>\n",
              "      <td>30.0</td>\n",
              "      <td>0</td>\n",
              "      <td>0</td>\n",
              "      <td>0</td>\n",
              "      <td>3</td>\n",
              "      <td>3</td>\n",
              "      <td>3</td>\n",
              "      <td>4</td>\n",
              "    </tr>\n",
              "    <tr>\n",
              "      <th>3239</th>\n",
              "      <td>1</td>\n",
              "      <td>55</td>\n",
              "      <td>1</td>\n",
              "      <td>4</td>\n",
              "      <td>1</td>\n",
              "      <td>101.0</td>\n",
              "      <td>37.0</td>\n",
              "      <td>91.0</td>\n",
              "      <td>75.2</td>\n",
              "      <td>0.0</td>\n",
              "      <td>0</td>\n",
              "      <td>0</td>\n",
              "      <td>0</td>\n",
              "      <td>3</td>\n",
              "      <td>2</td>\n",
              "      <td>5</td>\n",
              "      <td>4</td>\n",
              "    </tr>\n",
              "    <tr>\n",
              "      <th>3240</th>\n",
              "      <td>1</td>\n",
              "      <td>53</td>\n",
              "      <td>1</td>\n",
              "      <td>2</td>\n",
              "      <td>1</td>\n",
              "      <td>98.0</td>\n",
              "      <td>39.0</td>\n",
              "      <td>93.0</td>\n",
              "      <td>79.0</td>\n",
              "      <td>0.0</td>\n",
              "      <td>0</td>\n",
              "      <td>0</td>\n",
              "      <td>0</td>\n",
              "      <td>2</td>\n",
              "      <td>2</td>\n",
              "      <td>5</td>\n",
              "      <td>4</td>\n",
              "    </tr>\n",
              "    <tr>\n",
              "      <th>3241</th>\n",
              "      <td>1</td>\n",
              "      <td>54</td>\n",
              "      <td>1</td>\n",
              "      <td>2</td>\n",
              "      <td>1</td>\n",
              "      <td>109.0</td>\n",
              "      <td>48.6</td>\n",
              "      <td>112.0</td>\n",
              "      <td>93.5</td>\n",
              "      <td>39.0</td>\n",
              "      <td>0</td>\n",
              "      <td>1</td>\n",
              "      <td>0</td>\n",
              "      <td>3</td>\n",
              "      <td>2</td>\n",
              "      <td>5</td>\n",
              "      <td>4</td>\n",
              "    </tr>\n",
              "  </tbody>\n",
              "</table>\n",
              "<p>3242 rows × 17 columns</p>\n",
              "</div>"
            ],
            "text/plain": [
              "      cvd_4types  age_s1  race  educat  ...  bend25  happy25  tired25  hlthlm25\n",
              "0              0      54     1       2  ...       1        2        3         4\n",
              "1              0      56     3       2  ...       2        2        1         3\n",
              "2              0      54     1       3  ...       3        2        6         4\n",
              "3              0      54     1       3  ...       3        2        1         3\n",
              "4              0      51     3       2  ...       2        1        1         2\n",
              "...          ...     ...   ...     ...  ...     ...      ...      ...       ...\n",
              "3237           1      66     1       2  ...       2        2        5         4\n",
              "3238           1      54     1       3  ...       3        3        3         4\n",
              "3239           1      55     1       4  ...       3        2        5         4\n",
              "3240           1      53     1       2  ...       2        2        5         4\n",
              "3241           1      54     1       2  ...       3        2        5         4\n",
              "\n",
              "[3242 rows x 17 columns]"
            ]
          },
          "metadata": {
            "tags": []
          },
          "execution_count": 3
        }
      ]
    },
    {
      "cell_type": "markdown",
      "metadata": {
        "id": "q4dq8ConrbYI"
      },
      "source": [
        "##IV. Data Inspection and Quality Analysis"
      ]
    },
    {
      "cell_type": "code",
      "metadata": {
        "colab": {
          "base_uri": "https://localhost:8080/",
          "height": 317
        },
        "id": "3UTL7q-grawk",
        "outputId": "8dec6125-a7ad-4e0a-dcee-df16e7451683"
      },
      "source": [
        "# Descriptive Statistics\n",
        "cvd.describe()"
      ],
      "execution_count": 4,
      "outputs": [
        {
          "output_type": "execute_result",
          "data": {
            "text/html": [
              "<div>\n",
              "<style scoped>\n",
              "    .dataframe tbody tr th:only-of-type {\n",
              "        vertical-align: middle;\n",
              "    }\n",
              "\n",
              "    .dataframe tbody tr th {\n",
              "        vertical-align: top;\n",
              "    }\n",
              "\n",
              "    .dataframe thead th {\n",
              "        text-align: right;\n",
              "    }\n",
              "</style>\n",
              "<table border=\"1\" class=\"dataframe\">\n",
              "  <thead>\n",
              "    <tr style=\"text-align: right;\">\n",
              "      <th></th>\n",
              "      <th>cvd_4types</th>\n",
              "      <th>age_s1</th>\n",
              "      <th>race</th>\n",
              "      <th>educat</th>\n",
              "      <th>mstat</th>\n",
              "      <th>hip</th>\n",
              "      <th>neck20</th>\n",
              "      <th>waist</th>\n",
              "      <th>av_weight_kg</th>\n",
              "      <th>cgpkyr</th>\n",
              "      <th>tea15</th>\n",
              "      <th>srhype</th>\n",
              "      <th>parrptdiab</th>\n",
              "      <th>bend25</th>\n",
              "      <th>happy25</th>\n",
              "      <th>tired25</th>\n",
              "      <th>hlthlm25</th>\n",
              "    </tr>\n",
              "  </thead>\n",
              "  <tbody>\n",
              "    <tr>\n",
              "      <th>count</th>\n",
              "      <td>3242.000000</td>\n",
              "      <td>3242.000000</td>\n",
              "      <td>3242.000000</td>\n",
              "      <td>3242.000000</td>\n",
              "      <td>3242.000000</td>\n",
              "      <td>3242.000000</td>\n",
              "      <td>3242.000000</td>\n",
              "      <td>3242.000000</td>\n",
              "      <td>3242.000000</td>\n",
              "      <td>3242.000000</td>\n",
              "      <td>3242.000000</td>\n",
              "      <td>3242.000000</td>\n",
              "      <td>3242.000000</td>\n",
              "      <td>3242.000000</td>\n",
              "      <td>3242.000000</td>\n",
              "      <td>3242.000000</td>\n",
              "      <td>3242.000000</td>\n",
              "    </tr>\n",
              "    <tr>\n",
              "      <th>mean</th>\n",
              "      <td>0.590068</td>\n",
              "      <td>64.828809</td>\n",
              "      <td>1.094695</td>\n",
              "      <td>2.326342</td>\n",
              "      <td>1.368600</td>\n",
              "      <td>105.404832</td>\n",
              "      <td>37.550719</td>\n",
              "      <td>97.209904</td>\n",
              "      <td>82.945928</td>\n",
              "      <td>12.904010</td>\n",
              "      <td>0.430907</td>\n",
              "      <td>0.327884</td>\n",
              "      <td>0.067551</td>\n",
              "      <td>2.473782</td>\n",
              "      <td>2.281308</td>\n",
              "      <td>4.292721</td>\n",
              "      <td>3.864898</td>\n",
              "    </tr>\n",
              "    <tr>\n",
              "      <th>std</th>\n",
              "      <td>0.491897</td>\n",
              "      <td>10.400496</td>\n",
              "      <td>0.358237</td>\n",
              "      <td>0.697934</td>\n",
              "      <td>0.933871</td>\n",
              "      <td>10.280402</td>\n",
              "      <td>4.101003</td>\n",
              "      <td>13.598060</td>\n",
              "      <td>7.849650</td>\n",
              "      <td>20.156736</td>\n",
              "      <td>1.242444</td>\n",
              "      <td>0.469515</td>\n",
              "      <td>0.251012</td>\n",
              "      <td>0.672158</td>\n",
              "      <td>0.951695</td>\n",
              "      <td>1.021099</td>\n",
              "      <td>0.614247</td>\n",
              "    </tr>\n",
              "    <tr>\n",
              "      <th>min</th>\n",
              "      <td>0.000000</td>\n",
              "      <td>39.000000</td>\n",
              "      <td>1.000000</td>\n",
              "      <td>1.000000</td>\n",
              "      <td>1.000000</td>\n",
              "      <td>44.000000</td>\n",
              "      <td>25.000000</td>\n",
              "      <td>67.000000</td>\n",
              "      <td>57.400000</td>\n",
              "      <td>0.000000</td>\n",
              "      <td>0.000000</td>\n",
              "      <td>0.000000</td>\n",
              "      <td>0.000000</td>\n",
              "      <td>1.000000</td>\n",
              "      <td>1.000000</td>\n",
              "      <td>1.000000</td>\n",
              "      <td>1.000000</td>\n",
              "    </tr>\n",
              "    <tr>\n",
              "      <th>25%</th>\n",
              "      <td>0.000000</td>\n",
              "      <td>57.000000</td>\n",
              "      <td>1.000000</td>\n",
              "      <td>2.000000</td>\n",
              "      <td>1.000000</td>\n",
              "      <td>99.000000</td>\n",
              "      <td>34.425000</td>\n",
              "      <td>88.000000</td>\n",
              "      <td>78.200000</td>\n",
              "      <td>0.000000</td>\n",
              "      <td>0.000000</td>\n",
              "      <td>0.000000</td>\n",
              "      <td>0.000000</td>\n",
              "      <td>2.000000</td>\n",
              "      <td>2.000000</td>\n",
              "      <td>4.000000</td>\n",
              "      <td>4.000000</td>\n",
              "    </tr>\n",
              "    <tr>\n",
              "      <th>50%</th>\n",
              "      <td>1.000000</td>\n",
              "      <td>65.000000</td>\n",
              "      <td>1.000000</td>\n",
              "      <td>2.000000</td>\n",
              "      <td>1.000000</td>\n",
              "      <td>104.000000</td>\n",
              "      <td>37.150000</td>\n",
              "      <td>97.000000</td>\n",
              "      <td>82.550000</td>\n",
              "      <td>0.300000</td>\n",
              "      <td>0.000000</td>\n",
              "      <td>0.000000</td>\n",
              "      <td>0.000000</td>\n",
              "      <td>3.000000</td>\n",
              "      <td>2.000000</td>\n",
              "      <td>4.000000</td>\n",
              "      <td>4.000000</td>\n",
              "    </tr>\n",
              "    <tr>\n",
              "      <th>75%</th>\n",
              "      <td>1.000000</td>\n",
              "      <td>73.000000</td>\n",
              "      <td>1.000000</td>\n",
              "      <td>3.000000</td>\n",
              "      <td>1.000000</td>\n",
              "      <td>110.000000</td>\n",
              "      <td>40.500000</td>\n",
              "      <td>106.000000</td>\n",
              "      <td>86.575000</td>\n",
              "      <td>20.475000</td>\n",
              "      <td>0.000000</td>\n",
              "      <td>1.000000</td>\n",
              "      <td>0.000000</td>\n",
              "      <td>3.000000</td>\n",
              "      <td>3.000000</td>\n",
              "      <td>5.000000</td>\n",
              "      <td>4.000000</td>\n",
              "    </tr>\n",
              "    <tr>\n",
              "      <th>max</th>\n",
              "      <td>1.000000</td>\n",
              "      <td>90.000000</td>\n",
              "      <td>3.000000</td>\n",
              "      <td>4.000000</td>\n",
              "      <td>8.000000</td>\n",
              "      <td>168.000000</td>\n",
              "      <td>53.000000</td>\n",
              "      <td>135.000000</td>\n",
              "      <td>136.700000</td>\n",
              "      <td>170.500000</td>\n",
              "      <td>30.000000</td>\n",
              "      <td>1.000000</td>\n",
              "      <td>1.000000</td>\n",
              "      <td>3.000000</td>\n",
              "      <td>6.000000</td>\n",
              "      <td>6.000000</td>\n",
              "      <td>5.000000</td>\n",
              "    </tr>\n",
              "  </tbody>\n",
              "</table>\n",
              "</div>"
            ],
            "text/plain": [
              "        cvd_4types       age_s1  ...      tired25     hlthlm25\n",
              "count  3242.000000  3242.000000  ...  3242.000000  3242.000000\n",
              "mean      0.590068    64.828809  ...     4.292721     3.864898\n",
              "std       0.491897    10.400496  ...     1.021099     0.614247\n",
              "min       0.000000    39.000000  ...     1.000000     1.000000\n",
              "25%       0.000000    57.000000  ...     4.000000     4.000000\n",
              "50%       1.000000    65.000000  ...     4.000000     4.000000\n",
              "75%       1.000000    73.000000  ...     5.000000     4.000000\n",
              "max       1.000000    90.000000  ...     6.000000     5.000000\n",
              "\n",
              "[8 rows x 17 columns]"
            ]
          },
          "metadata": {
            "tags": []
          },
          "execution_count": 4
        }
      ]
    },
    {
      "cell_type": "code",
      "metadata": {
        "colab": {
          "base_uri": "https://localhost:8080/",
          "height": 204
        },
        "id": "CoKaXY9Qr3zy",
        "outputId": "6b3c93f2-e3bb-4fa1-95e9-4865ca62031a"
      },
      "source": [
        "#First Few Rows\n",
        "cvd.head()"
      ],
      "execution_count": 5,
      "outputs": [
        {
          "output_type": "execute_result",
          "data": {
            "text/html": [
              "<div>\n",
              "<style scoped>\n",
              "    .dataframe tbody tr th:only-of-type {\n",
              "        vertical-align: middle;\n",
              "    }\n",
              "\n",
              "    .dataframe tbody tr th {\n",
              "        vertical-align: top;\n",
              "    }\n",
              "\n",
              "    .dataframe thead th {\n",
              "        text-align: right;\n",
              "    }\n",
              "</style>\n",
              "<table border=\"1\" class=\"dataframe\">\n",
              "  <thead>\n",
              "    <tr style=\"text-align: right;\">\n",
              "      <th></th>\n",
              "      <th>cvd_4types</th>\n",
              "      <th>age_s1</th>\n",
              "      <th>race</th>\n",
              "      <th>educat</th>\n",
              "      <th>mstat</th>\n",
              "      <th>hip</th>\n",
              "      <th>neck20</th>\n",
              "      <th>waist</th>\n",
              "      <th>av_weight_kg</th>\n",
              "      <th>cgpkyr</th>\n",
              "      <th>tea15</th>\n",
              "      <th>srhype</th>\n",
              "      <th>parrptdiab</th>\n",
              "      <th>bend25</th>\n",
              "      <th>happy25</th>\n",
              "      <th>tired25</th>\n",
              "      <th>hlthlm25</th>\n",
              "    </tr>\n",
              "  </thead>\n",
              "  <tbody>\n",
              "    <tr>\n",
              "      <th>0</th>\n",
              "      <td>0</td>\n",
              "      <td>54</td>\n",
              "      <td>1</td>\n",
              "      <td>2</td>\n",
              "      <td>1</td>\n",
              "      <td>110.0</td>\n",
              "      <td>40.0</td>\n",
              "      <td>108.0</td>\n",
              "      <td>87.5</td>\n",
              "      <td>34.0</td>\n",
              "      <td>0</td>\n",
              "      <td>1</td>\n",
              "      <td>0</td>\n",
              "      <td>1</td>\n",
              "      <td>2</td>\n",
              "      <td>3</td>\n",
              "      <td>4</td>\n",
              "    </tr>\n",
              "    <tr>\n",
              "      <th>1</th>\n",
              "      <td>0</td>\n",
              "      <td>56</td>\n",
              "      <td>3</td>\n",
              "      <td>2</td>\n",
              "      <td>1</td>\n",
              "      <td>113.0</td>\n",
              "      <td>34.0</td>\n",
              "      <td>107.0</td>\n",
              "      <td>83.5</td>\n",
              "      <td>0.0</td>\n",
              "      <td>0</td>\n",
              "      <td>0</td>\n",
              "      <td>0</td>\n",
              "      <td>2</td>\n",
              "      <td>2</td>\n",
              "      <td>1</td>\n",
              "      <td>3</td>\n",
              "    </tr>\n",
              "    <tr>\n",
              "      <th>2</th>\n",
              "      <td>0</td>\n",
              "      <td>54</td>\n",
              "      <td>1</td>\n",
              "      <td>3</td>\n",
              "      <td>1</td>\n",
              "      <td>110.0</td>\n",
              "      <td>44.5</td>\n",
              "      <td>105.0</td>\n",
              "      <td>86.2</td>\n",
              "      <td>49.5</td>\n",
              "      <td>0</td>\n",
              "      <td>0</td>\n",
              "      <td>0</td>\n",
              "      <td>3</td>\n",
              "      <td>2</td>\n",
              "      <td>6</td>\n",
              "      <td>4</td>\n",
              "    </tr>\n",
              "    <tr>\n",
              "      <th>3</th>\n",
              "      <td>0</td>\n",
              "      <td>54</td>\n",
              "      <td>1</td>\n",
              "      <td>3</td>\n",
              "      <td>1</td>\n",
              "      <td>129.0</td>\n",
              "      <td>42.5</td>\n",
              "      <td>110.0</td>\n",
              "      <td>89.1</td>\n",
              "      <td>0.0</td>\n",
              "      <td>0</td>\n",
              "      <td>0</td>\n",
              "      <td>0</td>\n",
              "      <td>3</td>\n",
              "      <td>2</td>\n",
              "      <td>1</td>\n",
              "      <td>3</td>\n",
              "    </tr>\n",
              "    <tr>\n",
              "      <th>4</th>\n",
              "      <td>0</td>\n",
              "      <td>51</td>\n",
              "      <td>3</td>\n",
              "      <td>2</td>\n",
              "      <td>1</td>\n",
              "      <td>122.0</td>\n",
              "      <td>37.0</td>\n",
              "      <td>113.0</td>\n",
              "      <td>81.3</td>\n",
              "      <td>0.0</td>\n",
              "      <td>0</td>\n",
              "      <td>0</td>\n",
              "      <td>0</td>\n",
              "      <td>2</td>\n",
              "      <td>1</td>\n",
              "      <td>1</td>\n",
              "      <td>2</td>\n",
              "    </tr>\n",
              "  </tbody>\n",
              "</table>\n",
              "</div>"
            ],
            "text/plain": [
              "   cvd_4types  age_s1  race  educat  ...  bend25  happy25  tired25  hlthlm25\n",
              "0           0      54     1       2  ...       1        2        3         4\n",
              "1           0      56     3       2  ...       2        2        1         3\n",
              "2           0      54     1       3  ...       3        2        6         4\n",
              "3           0      54     1       3  ...       3        2        1         3\n",
              "4           0      51     3       2  ...       2        1        1         2\n",
              "\n",
              "[5 rows x 17 columns]"
            ]
          },
          "metadata": {
            "tags": []
          },
          "execution_count": 5
        }
      ]
    },
    {
      "cell_type": "code",
      "metadata": {
        "colab": {
          "base_uri": "https://localhost:8080/"
        },
        "id": "JOSd4Ssyr3f0",
        "outputId": "009df720-8cf3-4d39-8231-8d14f4cb2ef2"
      },
      "source": [
        "#Count of Rows\n",
        "cvd.count()"
      ],
      "execution_count": 6,
      "outputs": [
        {
          "output_type": "execute_result",
          "data": {
            "text/plain": [
              "cvd_4types      3242\n",
              "age_s1          3242\n",
              "race            3242\n",
              "educat          3242\n",
              "mstat           3242\n",
              "hip             3242\n",
              "neck20          3242\n",
              "waist           3242\n",
              "av_weight_kg    3242\n",
              "cgpkyr          3242\n",
              "tea15           3242\n",
              "srhype          3242\n",
              "parrptdiab      3242\n",
              "bend25          3242\n",
              "happy25         3242\n",
              "tired25         3242\n",
              "hlthlm25        3242\n",
              "dtype: int64"
            ]
          },
          "metadata": {
            "tags": []
          },
          "execution_count": 6
        }
      ]
    },
    {
      "cell_type": "code",
      "metadata": {
        "colab": {
          "base_uri": "https://localhost:8080/"
        },
        "id": "Nyl8EliJsMp3",
        "outputId": "19af6487-c89e-48f4-c3ec-bf9fec5e145a"
      },
      "source": [
        "# Data type\n",
        "cvd.info()"
      ],
      "execution_count": 7,
      "outputs": [
        {
          "output_type": "stream",
          "text": [
            "<class 'pandas.core.frame.DataFrame'>\n",
            "RangeIndex: 3242 entries, 0 to 3241\n",
            "Data columns (total 17 columns):\n",
            " #   Column        Non-Null Count  Dtype  \n",
            "---  ------        --------------  -----  \n",
            " 0   cvd_4types    3242 non-null   int64  \n",
            " 1   age_s1        3242 non-null   int64  \n",
            " 2   race          3242 non-null   int64  \n",
            " 3   educat        3242 non-null   int64  \n",
            " 4   mstat         3242 non-null   int64  \n",
            " 5   hip           3242 non-null   float64\n",
            " 6   neck20        3242 non-null   float64\n",
            " 7   waist         3242 non-null   float64\n",
            " 8   av_weight_kg  3242 non-null   float64\n",
            " 9   cgpkyr        3242 non-null   float64\n",
            " 10  tea15         3242 non-null   int64  \n",
            " 11  srhype        3242 non-null   int64  \n",
            " 12  parrptdiab    3242 non-null   int64  \n",
            " 13  bend25        3242 non-null   int64  \n",
            " 14  happy25       3242 non-null   int64  \n",
            " 15  tired25       3242 non-null   int64  \n",
            " 16  hlthlm25      3242 non-null   int64  \n",
            "dtypes: float64(5), int64(12)\n",
            "memory usage: 430.7 KB\n"
          ],
          "name": "stdout"
        }
      ]
    },
    {
      "cell_type": "code",
      "metadata": {
        "colab": {
          "base_uri": "https://localhost:8080/"
        },
        "id": "Ces_hmZusPNY",
        "outputId": "37cf2bdd-9ffa-49bf-ccc8-98052ae26d10"
      },
      "source": [
        "# Check for duplicate records:\n",
        "cvd.duplicated().sum()"
      ],
      "execution_count": 8,
      "outputs": [
        {
          "output_type": "execute_result",
          "data": {
            "text/plain": [
              "0"
            ]
          },
          "metadata": {
            "tags": []
          },
          "execution_count": 8
        }
      ]
    },
    {
      "cell_type": "code",
      "metadata": {
        "colab": {
          "base_uri": "https://localhost:8080/"
        },
        "id": "hXc_r4zOsUev",
        "outputId": "0486b8cf-566c-4282-beb0-451cccbf564e"
      },
      "source": [
        "#Cheking for Null Values\n",
        "pd.isnull(cvd).sum()"
      ],
      "execution_count": 9,
      "outputs": [
        {
          "output_type": "execute_result",
          "data": {
            "text/plain": [
              "cvd_4types      0\n",
              "age_s1          0\n",
              "race            0\n",
              "educat          0\n",
              "mstat           0\n",
              "hip             0\n",
              "neck20          0\n",
              "waist           0\n",
              "av_weight_kg    0\n",
              "cgpkyr          0\n",
              "tea15           0\n",
              "srhype          0\n",
              "parrptdiab      0\n",
              "bend25          0\n",
              "happy25         0\n",
              "tired25         0\n",
              "hlthlm25        0\n",
              "dtype: int64"
            ]
          },
          "metadata": {
            "tags": []
          },
          "execution_count": 9
        }
      ]
    },
    {
      "cell_type": "markdown",
      "metadata": {
        "id": "dYbOSG1pr0z5"
      },
      "source": [
        "##V. Data Processing"
      ]
    },
    {
      "cell_type": "markdown",
      "metadata": {
        "id": "OCqqIVrAypKi"
      },
      "source": [
        "Null Value Counts"
      ]
    },
    {
      "cell_type": "code",
      "metadata": {
        "colab": {
          "base_uri": "https://localhost:8080/"
        },
        "id": "g0OM6ejMr9J4",
        "outputId": "4d53dc94-d5a8-4600-a15b-562cffbbfaf0"
      },
      "source": [
        "print(cvd[\"cvd_4types\"].value_counts())"
      ],
      "execution_count": 10,
      "outputs": [
        {
          "output_type": "stream",
          "text": [
            "1    1913\n",
            "0    1329\n",
            "Name: cvd_4types, dtype: int64\n"
          ],
          "name": "stdout"
        }
      ]
    },
    {
      "cell_type": "markdown",
      "metadata": {
        "id": "Dnw6foaDyzwQ"
      },
      "source": [
        "Proportions of Output Variable\n",
        "\n",
        "*   Orange reflects the ones with Cardio Vascular Disease\n",
        "*   Blue reflects the ones where Cardio Vascular Disease is absent"
      ]
    },
    {
      "cell_type": "code",
      "metadata": {
        "colab": {
          "base_uri": "https://localhost:8080/",
          "height": 283
        },
        "id": "inyIqmmBxbQO",
        "outputId": "201801f5-e7a6-4e32-a269-710b6a6902bb"
      },
      "source": [
        "count_plot = sns.countplot(x=\"cvd_4types\", data=cvd,\n",
        "                   facecolor=(0, 0, 0, 0),\n",
        "                   linewidth=4,\n",
        "                   edgecolor=sns.color_palette(\"muted\", 2))"
      ],
      "execution_count": 11,
      "outputs": [
        {
          "output_type": "display_data",
          "data": {
            "image/png": "[encoded data removed]",
            "text/plain": [
              "<Figure size 432x288 with 1 Axes>"
            ]
          },
          "metadata": {
            "tags": [],
            "needs_background": "light"
          }
        }
      ]
    },
    {
      "cell_type": "markdown",
      "metadata": {
        "id": "GTSo1GxizztB"
      },
      "source": [
        "Checking for Colinearity"
      ]
    },
    {
      "cell_type": "code",
      "metadata": {
        "colab": {
          "base_uri": "https://localhost:8080/",
          "height": 596
        },
        "id": "4F5nNzRez48K",
        "outputId": "c50c1a42-9e7f-4999-be88-985a1585cacd"
      },
      "source": [
        "cvd.corr(method =\"pearson\") "
      ],
      "execution_count": 12,
      "outputs": [
        {
          "output_type": "execute_result",
          "data": {
            "text/html": [
              "<div>\n",
              "<style scoped>\n",
              "    .dataframe tbody tr th:only-of-type {\n",
              "        vertical-align: middle;\n",
              "    }\n",
              "\n",
              "    .dataframe tbody tr th {\n",
              "        vertical-align: top;\n",
              "    }\n",
              "\n",
              "    .dataframe thead th {\n",
              "        text-align: right;\n",
              "    }\n",
              "</style>\n",
              "<table border=\"1\" class=\"dataframe\">\n",
              "  <thead>\n",
              "    <tr style=\"text-align: right;\">\n",
              "      <th></th>\n",
              "      <th>cvd_4types</th>\n",
              "      <th>age_s1</th>\n",
              "      <th>race</th>\n",
              "      <th>educat</th>\n",
              "      <th>mstat</th>\n",
              "      <th>hip</th>\n",
              "      <th>neck20</th>\n",
              "      <th>waist</th>\n",
              "      <th>av_weight_kg</th>\n",
              "      <th>cgpkyr</th>\n",
              "      <th>tea15</th>\n",
              "      <th>srhype</th>\n",
              "      <th>parrptdiab</th>\n",
              "      <th>bend25</th>\n",
              "      <th>happy25</th>\n",
              "      <th>tired25</th>\n",
              "      <th>hlthlm25</th>\n",
              "    </tr>\n",
              "  </thead>\n",
              "  <tbody>\n",
              "    <tr>\n",
              "      <th>cvd_4types</th>\n",
              "      <td>1.000000</td>\n",
              "      <td>0.089168</td>\n",
              "      <td>-0.143843</td>\n",
              "      <td>0.053662</td>\n",
              "      <td>-0.076659</td>\n",
              "      <td>0.018482</td>\n",
              "      <td>0.101653</td>\n",
              "      <td>0.203104</td>\n",
              "      <td>0.058616</td>\n",
              "      <td>0.037151</td>\n",
              "      <td>-0.028436</td>\n",
              "      <td>0.071819</td>\n",
              "      <td>0.074406</td>\n",
              "      <td>-0.009653</td>\n",
              "      <td>-0.033048</td>\n",
              "      <td>0.022130</td>\n",
              "      <td>-0.126168</td>\n",
              "    </tr>\n",
              "    <tr>\n",
              "      <th>age_s1</th>\n",
              "      <td>0.089168</td>\n",
              "      <td>1.000000</td>\n",
              "      <td>0.000626</td>\n",
              "      <td>-0.207595</td>\n",
              "      <td>0.013170</td>\n",
              "      <td>-0.121743</td>\n",
              "      <td>-0.001135</td>\n",
              "      <td>0.086363</td>\n",
              "      <td>0.073152</td>\n",
              "      <td>0.072336</td>\n",
              "      <td>-0.007279</td>\n",
              "      <td>0.268032</td>\n",
              "      <td>0.140819</td>\n",
              "      <td>-0.224303</td>\n",
              "      <td>-0.044323</td>\n",
              "      <td>0.012448</td>\n",
              "      <td>-0.164790</td>\n",
              "    </tr>\n",
              "    <tr>\n",
              "      <th>race</th>\n",
              "      <td>-0.143843</td>\n",
              "      <td>0.000626</td>\n",
              "      <td>1.000000</td>\n",
              "      <td>-0.061934</td>\n",
              "      <td>0.058878</td>\n",
              "      <td>0.030535</td>\n",
              "      <td>-0.010810</td>\n",
              "      <td>0.012960</td>\n",
              "      <td>0.045118</td>\n",
              "      <td>-0.040240</td>\n",
              "      <td>-0.005746</td>\n",
              "      <td>0.053822</td>\n",
              "      <td>0.079818</td>\n",
              "      <td>-0.064647</td>\n",
              "      <td>0.005103</td>\n",
              "      <td>-0.014226</td>\n",
              "      <td>-0.117117</td>\n",
              "    </tr>\n",
              "    <tr>\n",
              "      <th>educat</th>\n",
              "      <td>0.053662</td>\n",
              "      <td>-0.207595</td>\n",
              "      <td>-0.061934</td>\n",
              "      <td>1.000000</td>\n",
              "      <td>0.026047</td>\n",
              "      <td>-0.008162</td>\n",
              "      <td>0.000856</td>\n",
              "      <td>-0.057212</td>\n",
              "      <td>-0.052692</td>\n",
              "      <td>-0.047632</td>\n",
              "      <td>0.022097</td>\n",
              "      <td>-0.110072</td>\n",
              "      <td>-0.117066</td>\n",
              "      <td>0.166887</td>\n",
              "      <td>-0.093659</td>\n",
              "      <td>0.079794</td>\n",
              "      <td>0.096398</td>\n",
              "    </tr>\n",
              "    <tr>\n",
              "      <th>mstat</th>\n",
              "      <td>-0.076659</td>\n",
              "      <td>0.013170</td>\n",
              "      <td>0.058878</td>\n",
              "      <td>0.026047</td>\n",
              "      <td>1.000000</td>\n",
              "      <td>0.012425</td>\n",
              "      <td>-0.078962</td>\n",
              "      <td>-0.044175</td>\n",
              "      <td>-0.046429</td>\n",
              "      <td>-0.006983</td>\n",
              "      <td>0.012250</td>\n",
              "      <td>-0.002689</td>\n",
              "      <td>0.012210</td>\n",
              "      <td>-0.016304</td>\n",
              "      <td>0.033619</td>\n",
              "      <td>-0.031645</td>\n",
              "      <td>-0.055162</td>\n",
              "    </tr>\n",
              "    <tr>\n",
              "      <th>hip</th>\n",
              "      <td>0.018482</td>\n",
              "      <td>-0.121743</td>\n",
              "      <td>0.030535</td>\n",
              "      <td>-0.008162</td>\n",
              "      <td>0.012425</td>\n",
              "      <td>1.000000</td>\n",
              "      <td>0.321828</td>\n",
              "      <td>0.710743</td>\n",
              "      <td>0.428565</td>\n",
              "      <td>-0.006662</td>\n",
              "      <td>0.003894</td>\n",
              "      <td>0.121578</td>\n",
              "      <td>0.085835</td>\n",
              "      <td>-0.229975</td>\n",
              "      <td>0.029561</td>\n",
              "      <td>-0.131190</td>\n",
              "      <td>-0.096214</td>\n",
              "    </tr>\n",
              "    <tr>\n",
              "      <th>neck20</th>\n",
              "      <td>0.101653</td>\n",
              "      <td>-0.001135</td>\n",
              "      <td>-0.010810</td>\n",
              "      <td>0.000856</td>\n",
              "      <td>-0.078962</td>\n",
              "      <td>0.321828</td>\n",
              "      <td>1.000000</td>\n",
              "      <td>0.617500</td>\n",
              "      <td>0.525890</td>\n",
              "      <td>0.190235</td>\n",
              "      <td>0.022729</td>\n",
              "      <td>0.105139</td>\n",
              "      <td>0.118303</td>\n",
              "      <td>-0.091327</td>\n",
              "      <td>0.008170</td>\n",
              "      <td>0.002945</td>\n",
              "      <td>-0.010144</td>\n",
              "    </tr>\n",
              "    <tr>\n",
              "      <th>waist</th>\n",
              "      <td>0.203104</td>\n",
              "      <td>0.086363</td>\n",
              "      <td>0.012960</td>\n",
              "      <td>-0.057212</td>\n",
              "      <td>-0.044175</td>\n",
              "      <td>0.710743</td>\n",
              "      <td>0.617500</td>\n",
              "      <td>1.000000</td>\n",
              "      <td>0.641330</td>\n",
              "      <td>0.112615</td>\n",
              "      <td>0.014916</td>\n",
              "      <td>0.201122</td>\n",
              "      <td>0.134582</td>\n",
              "      <td>-0.246275</td>\n",
              "      <td>0.020475</td>\n",
              "      <td>-0.091524</td>\n",
              "      <td>-0.111527</td>\n",
              "    </tr>\n",
              "    <tr>\n",
              "      <th>av_weight_kg</th>\n",
              "      <td>0.058616</td>\n",
              "      <td>0.073152</td>\n",
              "      <td>0.045118</td>\n",
              "      <td>-0.052692</td>\n",
              "      <td>-0.046429</td>\n",
              "      <td>0.428565</td>\n",
              "      <td>0.525890</td>\n",
              "      <td>0.641330</td>\n",
              "      <td>1.000000</td>\n",
              "      <td>0.111671</td>\n",
              "      <td>0.013763</td>\n",
              "      <td>0.196695</td>\n",
              "      <td>0.094746</td>\n",
              "      <td>-0.155036</td>\n",
              "      <td>0.028020</td>\n",
              "      <td>-0.054466</td>\n",
              "      <td>-0.015056</td>\n",
              "    </tr>\n",
              "    <tr>\n",
              "      <th>cgpkyr</th>\n",
              "      <td>0.037151</td>\n",
              "      <td>0.072336</td>\n",
              "      <td>-0.040240</td>\n",
              "      <td>-0.047632</td>\n",
              "      <td>-0.006983</td>\n",
              "      <td>-0.006662</td>\n",
              "      <td>0.190235</td>\n",
              "      <td>0.112615</td>\n",
              "      <td>0.111671</td>\n",
              "      <td>1.000000</td>\n",
              "      <td>0.000500</td>\n",
              "      <td>0.013163</td>\n",
              "      <td>0.044049</td>\n",
              "      <td>-0.056544</td>\n",
              "      <td>0.026469</td>\n",
              "      <td>-0.051990</td>\n",
              "      <td>-0.030523</td>\n",
              "    </tr>\n",
              "    <tr>\n",
              "      <th>tea15</th>\n",
              "      <td>-0.028436</td>\n",
              "      <td>-0.007279</td>\n",
              "      <td>-0.005746</td>\n",
              "      <td>0.022097</td>\n",
              "      <td>0.012250</td>\n",
              "      <td>0.003894</td>\n",
              "      <td>0.022729</td>\n",
              "      <td>0.014916</td>\n",
              "      <td>0.013763</td>\n",
              "      <td>0.000500</td>\n",
              "      <td>1.000000</td>\n",
              "      <td>-0.018012</td>\n",
              "      <td>-0.012237</td>\n",
              "      <td>0.011131</td>\n",
              "      <td>-0.004694</td>\n",
              "      <td>0.002935</td>\n",
              "      <td>0.022939</td>\n",
              "    </tr>\n",
              "    <tr>\n",
              "      <th>srhype</th>\n",
              "      <td>0.071819</td>\n",
              "      <td>0.268032</td>\n",
              "      <td>0.053822</td>\n",
              "      <td>-0.110072</td>\n",
              "      <td>-0.002689</td>\n",
              "      <td>0.121578</td>\n",
              "      <td>0.105139</td>\n",
              "      <td>0.201122</td>\n",
              "      <td>0.196695</td>\n",
              "      <td>0.013163</td>\n",
              "      <td>-0.018012</td>\n",
              "      <td>1.000000</td>\n",
              "      <td>0.134026</td>\n",
              "      <td>-0.154113</td>\n",
              "      <td>0.048315</td>\n",
              "      <td>-0.085701</td>\n",
              "      <td>-0.141636</td>\n",
              "    </tr>\n",
              "    <tr>\n",
              "      <th>parrptdiab</th>\n",
              "      <td>0.074406</td>\n",
              "      <td>0.140819</td>\n",
              "      <td>0.079818</td>\n",
              "      <td>-0.117066</td>\n",
              "      <td>0.012210</td>\n",
              "      <td>0.085835</td>\n",
              "      <td>0.118303</td>\n",
              "      <td>0.134582</td>\n",
              "      <td>0.094746</td>\n",
              "      <td>0.044049</td>\n",
              "      <td>-0.012237</td>\n",
              "      <td>0.134026</td>\n",
              "      <td>1.000000</td>\n",
              "      <td>-0.122084</td>\n",
              "      <td>0.039256</td>\n",
              "      <td>-0.037445</td>\n",
              "      <td>-0.090878</td>\n",
              "    </tr>\n",
              "    <tr>\n",
              "      <th>bend25</th>\n",
              "      <td>-0.009653</td>\n",
              "      <td>-0.224303</td>\n",
              "      <td>-0.064647</td>\n",
              "      <td>0.166887</td>\n",
              "      <td>-0.016304</td>\n",
              "      <td>-0.229975</td>\n",
              "      <td>-0.091327</td>\n",
              "      <td>-0.246275</td>\n",
              "      <td>-0.155036</td>\n",
              "      <td>-0.056544</td>\n",
              "      <td>0.011131</td>\n",
              "      <td>-0.154113</td>\n",
              "      <td>-0.122084</td>\n",
              "      <td>1.000000</td>\n",
              "      <td>-0.152462</td>\n",
              "      <td>0.283390</td>\n",
              "      <td>0.267927</td>\n",
              "    </tr>\n",
              "    <tr>\n",
              "      <th>happy25</th>\n",
              "      <td>-0.033048</td>\n",
              "      <td>-0.044323</td>\n",
              "      <td>0.005103</td>\n",
              "      <td>-0.093659</td>\n",
              "      <td>0.033619</td>\n",
              "      <td>0.029561</td>\n",
              "      <td>0.008170</td>\n",
              "      <td>0.020475</td>\n",
              "      <td>0.028020</td>\n",
              "      <td>0.026469</td>\n",
              "      <td>-0.004694</td>\n",
              "      <td>0.048315</td>\n",
              "      <td>0.039256</td>\n",
              "      <td>-0.152462</td>\n",
              "      <td>1.000000</td>\n",
              "      <td>-0.320671</td>\n",
              "      <td>-0.209958</td>\n",
              "    </tr>\n",
              "    <tr>\n",
              "      <th>tired25</th>\n",
              "      <td>0.022130</td>\n",
              "      <td>0.012448</td>\n",
              "      <td>-0.014226</td>\n",
              "      <td>0.079794</td>\n",
              "      <td>-0.031645</td>\n",
              "      <td>-0.131190</td>\n",
              "      <td>0.002945</td>\n",
              "      <td>-0.091524</td>\n",
              "      <td>-0.054466</td>\n",
              "      <td>-0.051990</td>\n",
              "      <td>0.002935</td>\n",
              "      <td>-0.085701</td>\n",
              "      <td>-0.037445</td>\n",
              "      <td>0.283390</td>\n",
              "      <td>-0.320671</td>\n",
              "      <td>1.000000</td>\n",
              "      <td>0.327735</td>\n",
              "    </tr>\n",
              "    <tr>\n",
              "      <th>hlthlm25</th>\n",
              "      <td>-0.126168</td>\n",
              "      <td>-0.164790</td>\n",
              "      <td>-0.117117</td>\n",
              "      <td>0.096398</td>\n",
              "      <td>-0.055162</td>\n",
              "      <td>-0.096214</td>\n",
              "      <td>-0.010144</td>\n",
              "      <td>-0.111527</td>\n",
              "      <td>-0.015056</td>\n",
              "      <td>-0.030523</td>\n",
              "      <td>0.022939</td>\n",
              "      <td>-0.141636</td>\n",
              "      <td>-0.090878</td>\n",
              "      <td>0.267927</td>\n",
              "      <td>-0.209958</td>\n",
              "      <td>0.327735</td>\n",
              "      <td>1.000000</td>\n",
              "    </tr>\n",
              "  </tbody>\n",
              "</table>\n",
              "</div>"
            ],
            "text/plain": [
              "              cvd_4types    age_s1      race  ...   happy25   tired25  hlthlm25\n",
              "cvd_4types      1.000000  0.089168 -0.143843  ... -0.033048  0.022130 -0.126168\n",
              "age_s1          0.089168  1.000000  0.000626  ... -0.044323  0.012448 -0.164790\n",
              "race           -0.143843  0.000626  1.000000  ...  0.005103 -0.014226 -0.117117\n",
              "educat          0.053662 -0.207595 -0.061934  ... -0.093659  0.079794  0.096398\n",
              "mstat          -0.076659  0.013170  0.058878  ...  0.033619 -0.031645 -0.055162\n",
              "hip             0.018482 -0.121743  0.030535  ...  0.029561 -0.131190 -0.096214\n",
              "neck20          0.101653 -0.001135 -0.010810  ...  0.008170  0.002945 -0.010144\n",
              "waist           0.203104  0.086363  0.012960  ...  0.020475 -0.091524 -0.111527\n",
              "av_weight_kg    0.058616  0.073152  0.045118  ...  0.028020 -0.054466 -0.015056\n",
              "cgpkyr          0.037151  0.072336 -0.040240  ...  0.026469 -0.051990 -0.030523\n",
              "tea15          -0.028436 -0.007279 -0.005746  ... -0.004694  0.002935  0.022939\n",
              "srhype          0.071819  0.268032  0.053822  ...  0.048315 -0.085701 -0.141636\n",
              "parrptdiab      0.074406  0.140819  0.079818  ...  0.039256 -0.037445 -0.090878\n",
              "bend25         -0.009653 -0.224303 -0.064647  ... -0.152462  0.283390  0.267927\n",
              "happy25        -0.033048 -0.044323  0.005103  ...  1.000000 -0.320671 -0.209958\n",
              "tired25         0.022130  0.012448 -0.014226  ... -0.320671  1.000000  0.327735\n",
              "hlthlm25       -0.126168 -0.164790 -0.117117  ... -0.209958  0.327735  1.000000\n",
              "\n",
              "[17 rows x 17 columns]"
            ]
          },
          "metadata": {
            "tags": []
          },
          "execution_count": 12
        }
      ]
    },
    {
      "cell_type": "markdown",
      "metadata": {
        "id": "d7JBsAjg0AVF"
      },
      "source": [
        "Dropping Variables"
      ]
    },
    {
      "cell_type": "code",
      "metadata": {
        "id": "1S9KDHMb0XK3"
      },
      "source": [
        "# Dropping \"hip\" as it has a high correlation to \"waist\"\n",
        "cvd = cvd.drop([\"hip\"], axis=1)"
      ],
      "execution_count": 13,
      "outputs": []
    },
    {
      "cell_type": "markdown",
      "metadata": {
        "id": "GZSpRAOg07DY"
      },
      "source": [
        "Generating Dummy Variables"
      ]
    },
    {
      "cell_type": "code",
      "metadata": {
        "id": "SLVexixa0-eD"
      },
      "source": [
        "cvd = pd.get_dummies(cvd, columns=[\"race\", \"educat\", \"mstat\", \"srhype\", \"parrptdiab\", \"parrptdiab\", \"happy25\",\"tired25\",\"hlthlm25\"],drop_first=True)"
      ],
      "execution_count": 14,
      "outputs": []
    },
    {
      "cell_type": "code",
      "metadata": {
        "colab": {
          "base_uri": "https://localhost:8080/",
          "height": 224
        },
        "id": "XK7-e4oR1SWe",
        "outputId": "3b47b2e3-3f0f-46af-fc8b-ee356f1b0774"
      },
      "source": [
        "cvd.head()"
      ],
      "execution_count": 15,
      "outputs": [
        {
          "output_type": "execute_result",
          "data": {
            "text/html": [
              "<div>\n",
              "<style scoped>\n",
              "    .dataframe tbody tr th:only-of-type {\n",
              "        vertical-align: middle;\n",
              "    }\n",
              "\n",
              "    .dataframe tbody tr th {\n",
              "        vertical-align: top;\n",
              "    }\n",
              "\n",
              "    .dataframe thead th {\n",
              "        text-align: right;\n",
              "    }\n",
              "</style>\n",
              "<table border=\"1\" class=\"dataframe\">\n",
              "  <thead>\n",
              "    <tr style=\"text-align: right;\">\n",
              "      <th></th>\n",
              "      <th>cvd_4types</th>\n",
              "      <th>age_s1</th>\n",
              "      <th>neck20</th>\n",
              "      <th>waist</th>\n",
              "      <th>av_weight_kg</th>\n",
              "      <th>cgpkyr</th>\n",
              "      <th>tea15</th>\n",
              "      <th>bend25</th>\n",
              "      <th>race_2</th>\n",
              "      <th>race_3</th>\n",
              "      <th>educat_2</th>\n",
              "      <th>educat_3</th>\n",
              "      <th>educat_4</th>\n",
              "      <th>mstat_2</th>\n",
              "      <th>mstat_3</th>\n",
              "      <th>mstat_4</th>\n",
              "      <th>mstat_8</th>\n",
              "      <th>srhype_1</th>\n",
              "      <th>parrptdiab_1</th>\n",
              "      <th>parrptdiab_1</th>\n",
              "      <th>happy25_2</th>\n",
              "      <th>happy25_3</th>\n",
              "      <th>happy25_4</th>\n",
              "      <th>happy25_5</th>\n",
              "      <th>happy25_6</th>\n",
              "      <th>tired25_2</th>\n",
              "      <th>tired25_3</th>\n",
              "      <th>tired25_4</th>\n",
              "      <th>tired25_5</th>\n",
              "      <th>tired25_6</th>\n",
              "      <th>hlthlm25_2</th>\n",
              "      <th>hlthlm25_3</th>\n",
              "      <th>hlthlm25_4</th>\n",
              "      <th>hlthlm25_5</th>\n",
              "    </tr>\n",
              "  </thead>\n",
              "  <tbody>\n",
              "    <tr>\n",
              "      <th>0</th>\n",
              "      <td>0</td>\n",
              "      <td>54</td>\n",
              "      <td>40.0</td>\n",
              "      <td>108.0</td>\n",
              "      <td>87.5</td>\n",
              "      <td>34.0</td>\n",
              "      <td>0</td>\n",
              "      <td>1</td>\n",
              "      <td>0</td>\n",
              "      <td>0</td>\n",
              "      <td>1</td>\n",
              "      <td>0</td>\n",
              "      <td>0</td>\n",
              "      <td>0</td>\n",
              "      <td>0</td>\n",
              "      <td>0</td>\n",
              "      <td>0</td>\n",
              "      <td>1</td>\n",
              "      <td>0</td>\n",
              "      <td>0</td>\n",
              "      <td>1</td>\n",
              "      <td>0</td>\n",
              "      <td>0</td>\n",
              "      <td>0</td>\n",
              "      <td>0</td>\n",
              "      <td>0</td>\n",
              "      <td>1</td>\n",
              "      <td>0</td>\n",
              "      <td>0</td>\n",
              "      <td>0</td>\n",
              "      <td>0</td>\n",
              "      <td>0</td>\n",
              "      <td>1</td>\n",
              "      <td>0</td>\n",
              "    </tr>\n",
              "    <tr>\n",
              "      <th>1</th>\n",
              "      <td>0</td>\n",
              "      <td>56</td>\n",
              "      <td>34.0</td>\n",
              "      <td>107.0</td>\n",
              "      <td>83.5</td>\n",
              "      <td>0.0</td>\n",
              "      <td>0</td>\n",
              "      <td>2</td>\n",
              "      <td>0</td>\n",
              "      <td>1</td>\n",
              "      <td>1</td>\n",
              "      <td>0</td>\n",
              "      <td>0</td>\n",
              "      <td>0</td>\n",
              "      <td>0</td>\n",
              "      <td>0</td>\n",
              "      <td>0</td>\n",
              "      <td>0</td>\n",
              "      <td>0</td>\n",
              "      <td>0</td>\n",
              "      <td>1</td>\n",
              "      <td>0</td>\n",
              "      <td>0</td>\n",
              "      <td>0</td>\n",
              "      <td>0</td>\n",
              "      <td>0</td>\n",
              "      <td>0</td>\n",
              "      <td>0</td>\n",
              "      <td>0</td>\n",
              "      <td>0</td>\n",
              "      <td>0</td>\n",
              "      <td>1</td>\n",
              "      <td>0</td>\n",
              "      <td>0</td>\n",
              "    </tr>\n",
              "    <tr>\n",
              "      <th>2</th>\n",
              "      <td>0</td>\n",
              "      <td>54</td>\n",
              "      <td>44.5</td>\n",
              "      <td>105.0</td>\n",
              "      <td>86.2</td>\n",
              "      <td>49.5</td>\n",
              "      <td>0</td>\n",
              "      <td>3</td>\n",
              "      <td>0</td>\n",
              "      <td>0</td>\n",
              "      <td>0</td>\n",
              "      <td>1</td>\n",
              "      <td>0</td>\n",
              "      <td>0</td>\n",
              "      <td>0</td>\n",
              "      <td>0</td>\n",
              "      <td>0</td>\n",
              "      <td>0</td>\n",
              "      <td>0</td>\n",
              "      <td>0</td>\n",
              "      <td>1</td>\n",
              "      <td>0</td>\n",
              "      <td>0</td>\n",
              "      <td>0</td>\n",
              "      <td>0</td>\n",
              "      <td>0</td>\n",
              "      <td>0</td>\n",
              "      <td>0</td>\n",
              "      <td>0</td>\n",
              "      <td>1</td>\n",
              "      <td>0</td>\n",
              "      <td>0</td>\n",
              "      <td>1</td>\n",
              "      <td>0</td>\n",
              "    </tr>\n",
              "    <tr>\n",
              "      <th>3</th>\n",
              "      <td>0</td>\n",
              "      <td>54</td>\n",
              "      <td>42.5</td>\n",
              "      <td>110.0</td>\n",
              "      <td>89.1</td>\n",
              "      <td>0.0</td>\n",
              "      <td>0</td>\n",
              "      <td>3</td>\n",
              "      <td>0</td>\n",
              "      <td>0</td>\n",
              "      <td>0</td>\n",
              "      <td>1</td>\n",
              "      <td>0</td>\n",
              "      <td>0</td>\n",
              "      <td>0</td>\n",
              "      <td>0</td>\n",
              "      <td>0</td>\n",
              "      <td>0</td>\n",
              "      <td>0</td>\n",
              "      <td>0</td>\n",
              "      <td>1</td>\n",
              "      <td>0</td>\n",
              "      <td>0</td>\n",
              "      <td>0</td>\n",
              "      <td>0</td>\n",
              "      <td>0</td>\n",
              "      <td>0</td>\n",
              "      <td>0</td>\n",
              "      <td>0</td>\n",
              "      <td>0</td>\n",
              "      <td>0</td>\n",
              "      <td>1</td>\n",
              "      <td>0</td>\n",
              "      <td>0</td>\n",
              "    </tr>\n",
              "    <tr>\n",
              "      <th>4</th>\n",
              "      <td>0</td>\n",
              "      <td>51</td>\n",
              "      <td>37.0</td>\n",
              "      <td>113.0</td>\n",
              "      <td>81.3</td>\n",
              "      <td>0.0</td>\n",
              "      <td>0</td>\n",
              "      <td>2</td>\n",
              "      <td>0</td>\n",
              "      <td>1</td>\n",
              "      <td>1</td>\n",
              "      <td>0</td>\n",
              "      <td>0</td>\n",
              "      <td>0</td>\n",
              "      <td>0</td>\n",
              "      <td>0</td>\n",
              "      <td>0</td>\n",
              "      <td>0</td>\n",
              "      <td>0</td>\n",
              "      <td>0</td>\n",
              "      <td>0</td>\n",
              "      <td>0</td>\n",
              "      <td>0</td>\n",
              "      <td>0</td>\n",
              "      <td>0</td>\n",
              "      <td>0</td>\n",
              "      <td>0</td>\n",
              "      <td>0</td>\n",
              "      <td>0</td>\n",
              "      <td>0</td>\n",
              "      <td>1</td>\n",
              "      <td>0</td>\n",
              "      <td>0</td>\n",
              "      <td>0</td>\n",
              "    </tr>\n",
              "  </tbody>\n",
              "</table>\n",
              "</div>"
            ],
            "text/plain": [
              "   cvd_4types  age_s1  neck20  ...  hlthlm25_3  hlthlm25_4  hlthlm25_5\n",
              "0           0      54    40.0  ...           0           1           0\n",
              "1           0      56    34.0  ...           1           0           0\n",
              "2           0      54    44.5  ...           0           1           0\n",
              "3           0      54    42.5  ...           1           0           0\n",
              "4           0      51    37.0  ...           0           0           0\n",
              "\n",
              "[5 rows x 34 columns]"
            ]
          },
          "metadata": {
            "tags": []
          },
          "execution_count": 15
        }
      ]
    },
    {
      "cell_type": "markdown",
      "metadata": {
        "id": "a8anhvVM2Sk9"
      },
      "source": [
        "Train Test Splitting"
      ]
    },
    {
      "cell_type": "code",
      "metadata": {
        "id": "zdWN8d7H1XLv"
      },
      "source": [
        "\n",
        "x_train, x_test, y_train, y_test = train_test_split(cvd.drop(\"cvd_4types\",axis=1),cvd[\"cvd_4types\"],\n",
        "                                                    test_size=0.30, random_state=101)"
      ],
      "execution_count": 16,
      "outputs": []
    },
    {
      "cell_type": "markdown",
      "metadata": {
        "id": "p8zI5UcG3Klf"
      },
      "source": [
        "Logistic Regression Classifier for Train"
      ]
    },
    {
      "cell_type": "code",
      "metadata": {
        "id": "B7_UtSSc3LLG"
      },
      "source": [
        "classifier = linear_model.LogisticRegression(C=1e40,solver=\"newton-cg\")\n",
        "model = classifier.fit(x_train,y_train)"
      ],
      "execution_count": 17,
      "outputs": []
    },
    {
      "cell_type": "markdown",
      "metadata": {
        "id": "9pMgV2Tp3trq"
      },
      "source": [
        "Predicting Accuracy Score (0.70 or 70.09%)"
      ]
    },
    {
      "cell_type": "code",
      "metadata": {
        "colab": {
          "base_uri": "https://localhost:8080/"
        },
        "id": "7PtOZki_3z4A",
        "outputId": "aad8d9db-322a-4468-d489-83a26031722d"
      },
      "source": [
        "y_pred = classifier.predict(x_test)\n",
        "model.score(x_test,y_test)"
      ],
      "execution_count": 18,
      "outputs": [
        {
          "output_type": "execute_result",
          "data": {
            "text/plain": [
              "0.7009249743062693"
            ]
          },
          "metadata": {
            "tags": []
          },
          "execution_count": 18
        }
      ]
    },
    {
      "cell_type": "markdown",
      "metadata": {
        "id": "A_pxWudN4MK_"
      },
      "source": [
        "Best Moddel using Randomized Search and changing hyperparameters"
      ]
    },
    {
      "cell_type": "markdown",
      "metadata": {
        "id": "K1SHpSl1430N"
      },
      "source": [
        "Logistic Regression"
      ]
    },
    {
      "cell_type": "code",
      "metadata": {
        "id": "ANGZV-b34MmT"
      },
      "source": [
        "log = linear_model.LogisticRegression()"
      ],
      "execution_count": 19,
      "outputs": []
    },
    {
      "cell_type": "markdown",
      "metadata": {
        "id": "Tcj9M8K95LLJ"
      },
      "source": [
        "Hyperparameter: Regularizing the penalty space"
      ]
    },
    {
      "cell_type": "code",
      "metadata": {
        "id": "xMt0mGn45Tsx"
      },
      "source": [
        "penalty = [\"l1\", \"l2\"]"
      ],
      "execution_count": 20,
      "outputs": []
    },
    {
      "cell_type": "markdown",
      "metadata": {
        "id": "caXLO7b45izg"
      },
      "source": [
        "Uniform Distribution for Regularization Hyperparameter"
      ]
    },
    {
      "cell_type": "code",
      "metadata": {
        "id": "ggNkGgEs5zSE"
      },
      "source": [
        "C = uniform(loc=0, scale=4)"
      ],
      "execution_count": 21,
      "outputs": []
    },
    {
      "cell_type": "markdown",
      "metadata": {
        "id": "PqNFmZCt6Kht"
      },
      "source": [
        "Generating Hyperparameters"
      ]
    },
    {
      "cell_type": "code",
      "metadata": {
        "id": "AEOUstFo6nRU"
      },
      "source": [
        "hyperparameter = dict(C = C, penalty = penalty)"
      ],
      "execution_count": 22,
      "outputs": []
    },
    {
      "cell_type": "markdown",
      "metadata": {
        "id": "jqNKts_P7D5n"
      },
      "source": [
        "Randomized Search"
      ]
    },
    {
      "cell_type": "code",
      "metadata": {
        "id": "bw62dA9F6-D9"
      },
      "source": [
        "classifier = RandomizedSearchCV(log, hyperparameter, random_state=1, n_iter=100, cv=5, verbose=0, n_jobs=-1)"
      ],
      "execution_count": 23,
      "outputs": []
    },
    {
      "cell_type": "markdown",
      "metadata": {
        "id": "Jin9G_sr7RPr"
      },
      "source": [
        "Fitting Randomized Search"
      ]
    },
    {
      "cell_type": "code",
      "metadata": {
        "colab": {
          "base_uri": "https://localhost:8080/"
        },
        "id": "wwwimdGg7UFg",
        "outputId": "bb929f36-0be6-4d0a-936c-befc6aed6907"
      },
      "source": [
        "model_optimum = classifier.fit(x_train, y_train)"
      ],
      "execution_count": 24,
      "outputs": [
        {
          "output_type": "stream",
          "text": [
            "/usr/local/lib/python3.7/dist-packages/sklearn/linear_model/_logistic.py:940: ConvergenceWarning: lbfgs failed to converge (status=1):\n",
            "STOP: TOTAL NO. of ITERATIONS REACHED LIMIT.\n",
            "\n",
            "Increase the number of iterations (max_iter) or scale the data as shown in:\n",
            "    https://scikit-learn.org/stable/modules/preprocessing.html\n",
            "Please also refer to the documentation for alternative solver options:\n",
            "    https://scikit-learn.org/stable/modules/linear_model.html#logistic-regression\n",
            "  extra_warning_msg=_LOGISTIC_SOLVER_CONVERGENCE_MSG)\n"
          ],
          "name": "stderr"
        }
      ]
    },
    {
      "cell_type": "markdown",
      "metadata": {
        "id": "ORR5KmJSEIIz"
      },
      "source": [
        "Most Optimum Hyperparameters"
      ]
    },
    {
      "cell_type": "code",
      "metadata": {
        "colab": {
          "base_uri": "https://localhost:8080/"
        },
        "id": "IrxkNGe5EUaj",
        "outputId": "2c86e4bc-0402-41c1-ae10-3fa7a2b9daac"
      },
      "source": [
        "print(\"Most Optimum Hyperparameter is\", model_optimum.best_estimator_.get_params()[\"penalty\"])\n",
        "print(\"Most Prefferred C is\", model_optimum.best_estimator_.get_params()[\"C\"])"
      ],
      "execution_count": 25,
      "outputs": [
        {
          "output_type": "stream",
          "text": [
            "Most Optimum Hyperparameter is l2\n",
            "Most Prefferred C is 0.7450408455106836\n"
          ],
          "name": "stdout"
        }
      ]
    },
    {
      "cell_type": "markdown",
      "metadata": {
        "id": "kXftLTLyE50x"
      },
      "source": [
        "Target Variable"
      ]
    },
    {
      "cell_type": "code",
      "metadata": {
        "colab": {
          "base_uri": "https://localhost:8080/"
        },
        "id": "m0krKC69E5Wj",
        "outputId": "ff8d6b43-3315-462e-d45e-f56d1f0952d9"
      },
      "source": [
        "model_optimum.predict(x_test)"
      ],
      "execution_count": 26,
      "outputs": [
        {
          "output_type": "execute_result",
          "data": {
            "text/plain": [
              "array([1, 1, 1, 0, 1, 0, 0, 1, 1, 1, 1, 0, 1, 0, 0, 1, 1, 0, 1, 1, 0, 1,\n",
              "       1, 0, 1, 1, 1, 1, 1, 1, 1, 1, 1, 1, 0, 1, 1, 1, 1, 1, 1, 1, 1, 0,\n",
              "       1, 0, 1, 1, 1, 1, 0, 1, 0, 1, 1, 0, 1, 1, 0, 0, 1, 1, 0, 1, 1, 1,\n",
              "       1, 1, 1, 1, 1, 1, 1, 0, 1, 1, 1, 1, 0, 1, 1, 1, 1, 1, 1, 1, 1, 0,\n",
              "       1, 0, 1, 1, 0, 1, 1, 1, 1, 1, 0, 1, 1, 1, 1, 1, 1, 1, 0, 1, 1, 1,\n",
              "       1, 1, 1, 0, 1, 1, 1, 0, 1, 0, 1, 1, 1, 0, 1, 1, 1, 1, 0, 1, 1, 1,\n",
              "       1, 1, 1, 0, 1, 1, 1, 1, 1, 1, 1, 1, 1, 0, 1, 1, 1, 1, 0, 1, 0, 0,\n",
              "       1, 1, 0, 1, 1, 1, 1, 1, 1, 1, 1, 1, 0, 0, 1, 1, 1, 1, 1, 0, 1, 1,\n",
              "       0, 1, 1, 0, 1, 1, 1, 1, 1, 1, 0, 1, 0, 1, 1, 1, 1, 1, 1, 1, 1, 1,\n",
              "       1, 1, 1, 1, 1, 1, 1, 1, 1, 0, 1, 1, 1, 1, 0, 1, 0, 1, 0, 1, 1, 0,\n",
              "       1, 1, 0, 1, 1, 1, 0, 1, 1, 0, 0, 0, 0, 1, 0, 0, 1, 1, 0, 0, 1, 1,\n",
              "       1, 1, 1, 1, 1, 1, 1, 1, 0, 0, 1, 1, 0, 1, 1, 1, 1, 1, 1, 1, 1, 1,\n",
              "       1, 0, 1, 1, 0, 0, 1, 1, 1, 0, 1, 1, 1, 0, 1, 1, 1, 0, 1, 1, 1, 1,\n",
              "       1, 1, 1, 0, 0, 1, 1, 1, 1, 1, 1, 1, 1, 1, 1, 1, 0, 0, 0, 1, 1, 1,\n",
              "       1, 1, 0, 1, 1, 1, 1, 1, 1, 1, 0, 1, 1, 1, 1, 1, 1, 1, 0, 1, 1, 1,\n",
              "       1, 1, 1, 0, 1, 1, 1, 1, 1, 1, 1, 1, 1, 1, 1, 1, 1, 1, 1, 1, 1, 1,\n",
              "       0, 1, 1, 1, 1, 1, 1, 1, 0, 1, 0, 1, 0, 1, 0, 1, 0, 1, 0, 1, 1, 1,\n",
              "       1, 0, 1, 1, 1, 1, 0, 0, 1, 1, 0, 0, 1, 1, 1, 0, 1, 1, 0, 1, 0, 1,\n",
              "       1, 1, 0, 1, 1, 1, 1, 1, 0, 1, 1, 1, 1, 0, 1, 0, 1, 1, 1, 1, 1, 1,\n",
              "       0, 1, 1, 1, 0, 1, 1, 1, 1, 1, 1, 1, 1, 1, 1, 1, 1, 1, 1, 1, 1, 1,\n",
              "       0, 0, 1, 1, 1, 1, 0, 1, 0, 1, 1, 1, 1, 1, 1, 1, 1, 0, 1, 0, 0, 1,\n",
              "       1, 1, 0, 1, 1, 0, 0, 1, 1, 1, 1, 0, 1, 1, 1, 0, 1, 1, 1, 1, 0, 1,\n",
              "       1, 1, 1, 1, 1, 1, 0, 1, 1, 1, 1, 1, 0, 1, 1, 1, 0, 1, 1, 1, 1, 0,\n",
              "       0, 1, 1, 0, 0, 1, 1, 1, 0, 1, 0, 1, 1, 1, 1, 1, 1, 1, 0, 1, 0, 1,\n",
              "       1, 1, 0, 1, 0, 0, 0, 1, 1, 1, 1, 1, 0, 1, 1, 1, 1, 0, 1, 1, 1, 1,\n",
              "       0, 1, 1, 1, 1, 1, 0, 1, 1, 1, 0, 1, 1, 1, 1, 1, 1, 1, 0, 1, 1, 1,\n",
              "       1, 1, 1, 1, 1, 1, 1, 0, 1, 1, 1, 1, 0, 1, 1, 1, 0, 1, 1, 1, 1, 1,\n",
              "       1, 1, 1, 1, 0, 1, 1, 1, 1, 1, 1, 1, 1, 1, 1, 1, 1, 1, 1, 1, 1, 0,\n",
              "       1, 1, 1, 1, 0, 1, 1, 0, 0, 1, 0, 1, 1, 1, 0, 0, 1, 1, 1, 1, 0, 1,\n",
              "       1, 1, 0, 1, 0, 1, 1, 1, 1, 1, 1, 1, 1, 1, 0, 0, 0, 1, 1, 1, 1, 1,\n",
              "       0, 0, 1, 1, 1, 1, 1, 1, 1, 1, 1, 1, 0, 0, 0, 1, 1, 1, 1, 1, 1, 1,\n",
              "       1, 1, 1, 1, 1, 1, 1, 0, 0, 1, 1, 1, 1, 1, 1, 1, 1, 0, 1, 0, 1, 1,\n",
              "       1, 1, 0, 0, 1, 0, 1, 1, 1, 1, 1, 1, 0, 1, 1, 0, 1, 1, 1, 0, 1, 1,\n",
              "       1, 0, 1, 0, 1, 1, 1, 1, 1, 0, 0, 1, 1, 1, 1, 1, 1, 1, 1, 0, 1, 1,\n",
              "       0, 1, 0, 1, 0, 0, 1, 1, 0, 1, 1, 1, 1, 0, 1, 1, 0, 0, 1, 1, 1, 1,\n",
              "       1, 1, 1, 1, 0, 0, 0, 1, 1, 1, 1, 1, 1, 1, 0, 1, 1, 1, 1, 1, 0, 1,\n",
              "       1, 0, 1, 0, 1, 0, 1, 1, 1, 1, 1, 1, 1, 1, 1, 1, 1, 1, 0, 1, 1, 0,\n",
              "       1, 1, 1, 1, 1, 1, 0, 1, 0, 0, 1, 1, 1, 1, 1, 1, 1, 1, 1, 1, 1, 1,\n",
              "       0, 1, 1, 0, 0, 1, 1, 1, 1, 1, 1, 0, 0, 1, 0, 1, 1, 1, 1, 0, 1, 1,\n",
              "       1, 1, 1, 1, 0, 1, 1, 0, 1, 0, 0, 1, 1, 0, 0, 0, 1, 1, 0, 1, 1, 1,\n",
              "       1, 0, 1, 1, 1, 1, 1, 1, 1, 1, 1, 1, 0, 1, 1, 1, 1, 0, 1, 1, 1, 1,\n",
              "       1, 1, 1, 1, 1, 1, 0, 1, 0, 0, 1, 1, 1, 1, 1, 0, 0, 1, 0, 1, 1, 1,\n",
              "       1, 0, 1, 1, 1, 1, 1, 1, 1, 1, 0, 1, 0, 1, 1, 0, 1, 1, 1, 1, 1, 1,\n",
              "       1, 1, 1, 1, 1, 0, 0, 1, 1, 1, 1, 1, 1, 1, 1, 1, 1, 1, 1, 1, 1, 1,\n",
              "       1, 1, 1, 0, 1])"
            ]
          },
          "metadata": {
            "tags": []
          },
          "execution_count": 26
        }
      ]
    },
    {
      "cell_type": "markdown",
      "metadata": {
        "id": "wdBPiby5GEGT"
      },
      "source": [
        "Optimum Model Score (0.70 or 70.09%)"
      ]
    },
    {
      "cell_type": "code",
      "metadata": {
        "colab": {
          "base_uri": "https://localhost:8080/"
        },
        "id": "v2XBGfrAFete",
        "outputId": "69eb9d33-eb2f-4628-c0fb-a7f0bacf4985"
      },
      "source": [
        "model_optimum.score(x_test,y_test)"
      ],
      "execution_count": 27,
      "outputs": [
        {
          "output_type": "execute_result",
          "data": {
            "text/plain": [
              "0.7009249743062693"
            ]
          },
          "metadata": {
            "tags": []
          },
          "execution_count": 27
        }
      ]
    },
    {
      "cell_type": "markdown",
      "metadata": {
        "id": "n0RoKGWyGZEx"
      },
      "source": [
        "##Section B\n",
        "Feature Importance of all the features sorted in the order of decreasing influenceon the Cardio Vascular Disease Risk"
      ]
    },
    {
      "cell_type": "markdown",
      "metadata": {
        "id": "YX4hCyxxIpoY"
      },
      "source": [
        "##I. Ranking Attributes"
      ]
    },
    {
      "cell_type": "markdown",
      "metadata": {
        "id": "NCSkr8bnKB-n"
      },
      "source": [
        "Ranking in descending order of significant attributes on Cardio Vascular Disease Risk"
      ]
    },
    {
      "cell_type": "code",
      "metadata": {
        "colab": {
          "base_uri": "https://localhost:8080/"
        },
        "id": "q2kZZV5LGYV0",
        "outputId": "fccd40ef-890b-4752-9232-9fd464687aa5"
      },
      "source": [
        "model.fit(x_train/np.std(x_train,0),y_train)\n",
        "print(model.coef_)"
      ],
      "execution_count": 28,
      "outputs": [
        {
          "output_type": "stream",
          "text": [
            "[[ 7.45243745e-02 -8.01505803e-02  5.21280711e-01 -9.60002905e-02\n",
            "   5.77592529e-02 -4.42776832e-02 -8.25421196e-03 -1.29685839e-01\n",
            "  -3.80028486e-01 -1.54269946e-01 -8.14551218e-02  2.94370333e-01\n",
            "  -1.66758574e-01 -1.05306210e-01 -3.84176052e-01  1.86614038e-01\n",
            "   2.91424187e-02  8.64283348e-02  8.64283348e-02  1.02240403e-01\n",
            "  -9.29439094e-03 -2.09555934e-04 -3.54764601e-03  5.25301400e-03\n",
            "   6.59130418e-02  7.61291441e-02  2.13790887e-01  2.77964482e-01\n",
            "   1.33341633e-01  3.57813477e-03 -4.60676570e-02 -2.76324571e-02\n",
            "  -6.34425545e-01]]\n"
          ],
          "name": "stdout"
        }
      ]
    },
    {
      "cell_type": "code",
      "metadata": {
        "colab": {
          "base_uri": "https://localhost:8080/"
        },
        "id": "7Tocw3rOKh1y",
        "outputId": "4ed0f200-729f-497a-ab74-e2cb97f8eef1"
      },
      "source": [
        "attributes = np.std(x_train,0)*model.coef_[0]\n",
        "\n",
        "attributes.sort_values(ascending=False)"
      ],
      "execution_count": 29,
      "outputs": [
        {
          "output_type": "execute_result",
          "data": {
            "text/plain": [
              "waist           7.140248\n",
              "cgpkyr          1.169838\n",
              "age_s1          0.770908\n",
              "tired25_5       0.135355\n",
              "tired25_4       0.103766\n",
              "educat_4        0.064570\n",
              "happy25_2       0.050275\n",
              "tired25_6       0.035667\n",
              "tired25_3       0.022250\n",
              "parrptdiab_1    0.021475\n",
              "parrptdiab_1    0.021475\n",
              "mstat_8         0.017443\n",
              "tired25_2       0.013910\n",
              "srhype_1        0.013690\n",
              "hlthlm25_2      0.000482\n",
              "happy25_6       0.000479\n",
              "happy25_4      -0.000061\n",
              "happy25_5      -0.000478\n",
              "happy25_3      -0.003218\n",
              "bend25         -0.005551\n",
              "hlthlm25_4     -0.012441\n",
              "hlthlm25_3     -0.017111\n",
              "mstat_3        -0.026804\n",
              "race_2         -0.028329\n",
              "educat_3       -0.038186\n",
              "mstat_2        -0.047490\n",
              "race_3         -0.050011\n",
              "tea15          -0.054917\n",
              "mstat_4        -0.057488\n",
              "educat_2       -0.076895\n",
              "hlthlm25_5     -0.184642\n",
              "neck20         -0.327180\n",
              "av_weight_kg   -0.741227\n",
              "dtype: float64"
            ]
          },
          "metadata": {
            "tags": []
          },
          "execution_count": 29
        }
      ]
    },
    {
      "cell_type": "markdown",
      "metadata": {
        "id": "RDs8GEYmF0cn"
      },
      "source": [
        "##Section C\n",
        "*   Evaluating the performance of your model(including ROC Curve)\n",
        "*   Explaining the performance\n",
        "*   Drawing a meaningful conclusion"
      ]
    },
    {
      "cell_type": "markdown",
      "metadata": {
        "id": "11ycS_zHLy6q"
      },
      "source": [
        "##I. Classification Report"
      ]
    },
    {
      "cell_type": "code",
      "metadata": {
        "colab": {
          "base_uri": "https://localhost:8080/"
        },
        "id": "78M2KrE_LaBA",
        "outputId": "4157999d-4a20-4edc-c9cb-730f1e996d6a"
      },
      "source": [
        "print(classification_report(y_test,y_pred))"
      ],
      "execution_count": 30,
      "outputs": [
        {
          "output_type": "stream",
          "text": [
            "              precision    recall  f1-score   support\n",
            "\n",
            "           0       0.74      0.46      0.57       415\n",
            "           1       0.69      0.88      0.77       558\n",
            "\n",
            "    accuracy                           0.70       973\n",
            "   macro avg       0.71      0.67      0.67       973\n",
            "weighted avg       0.71      0.70      0.68       973\n",
            "\n"
          ],
          "name": "stdout"
        }
      ]
    },
    {
      "cell_type": "markdown",
      "metadata": {
        "id": "p4SjPufuL1wy"
      },
      "source": [
        "##II. ROC Curve"
      ]
    },
    {
      "cell_type": "code",
      "metadata": {
        "colab": {
          "base_uri": "https://localhost:8080/",
          "height": 296
        },
        "id": "DIZgqMbpLt7r",
        "outputId": "36a05045-ccff-4892-a5e7-8e50113da820"
      },
      "source": [
        "plot_roc_curve(classifier, x_test, y_test, color = \"brown\")"
      ],
      "execution_count": 31,
      "outputs": [
        {
          "output_type": "execute_result",
          "data": {
            "text/plain": [
              "<sklearn.metrics._plot.roc_curve.RocCurveDisplay at 0x7f3a637e6150>"
            ]
          },
          "metadata": {
            "tags": []
          },
          "execution_count": 31
        },
        {
          "output_type": "display_data",
          "data": {
            "image/png": "[encoded data removed]",
            "text/plain": [
              "<Figure size 432x288 with 1 Axes>"
            ]
          },
          "metadata": {
            "tags": [],
            "needs_background": "light"
          }
        }
      ]
    },
    {
      "cell_type": "markdown",
      "metadata": {
        "id": "T8FBZ6QNMvjQ"
      },
      "source": [
        "##III. ROC AUC Score"
      ]
    },
    {
      "cell_type": "code",
      "metadata": {
        "colab": {
          "base_uri": "https://localhost:8080/"
        },
        "id": "XpJnQGZrMZvc",
        "outputId": "8abd6ddc-7c35-4071-d61a-66fad2ac56f3"
      },
      "source": [
        "auc = print(\"ROC AUC SCORE: is 0.75\")\n",
        "print(auc)"
      ],
      "execution_count": 32,
      "outputs": [
        {
          "output_type": "stream",
          "text": [
            "ROC AUC SCORE: is 0.75\n",
            "None\n"
          ],
          "name": "stdout"
        }
      ]
    }
  ]
}